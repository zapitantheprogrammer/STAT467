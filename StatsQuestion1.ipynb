{
 "cells": [
  {
   "cell_type": "code",
   "execution_count": 1,
   "metadata": {},
   "outputs": [],
   "source": [
    "import math\n",
    "import numpy as np\n",
    "from scipy.integrate import quad\n",
    "import pandas as pd\n",
    "import matplotlib.pyplot as plt\n",
    "import seaborn as sns\n",
    "sns.set()\n",
    "%matplotlib inline\n",
    "\n",
    "def factorial(n):\n",
    "    prod = 1\n",
    "    for i in range(1, n + 1, 1):\n",
    "        prod *= i\n",
    "    return prod\n",
    "\n",
    "def choose(n, r):\n",
    "    num, den = factorial(n), factorial(r)*factorial(n - r)\n",
    "    return num/den\n",
    "\n",
    "def perm(n, r):\n",
    "    num, den = factorial(n), factorial(n - r)\n",
    "    return num/den\n",
    "\n",
    "def binomial(x, n, p):\n",
    "    return choose(n, x)*(p**x)*(1 - p)**(n - x)\n",
    "\n",
    "def nbinomial(x, k, p): # Negative Binomial\n",
    "    return choose(x - 1, k - 1)*p**k*(1 - p)**(x - k)\n",
    "\n",
    "def poisson(x, Lambda):\n",
    "    num, den = np.exp(-Lambda)*Lambda**x, factorial(x)\n",
    "    return num/den\n",
    "\n",
    "def derivative(function, x):\n",
    "    h = 0.000000000001\n",
    "    numerator, denominator = function(x + h) - function(x), h\n",
    "    return numerator/denominator"
   ]
  },
  {
   "cell_type": "markdown",
   "metadata": {},
   "source": [
    "# Question 1"
   ]
  },
  {
   "cell_type": "code",
   "execution_count": 22,
   "metadata": {},
   "outputs": [
    {
     "data": {
      "text/html": [
       "<div>\n",
       "<style scoped>\n",
       "    .dataframe tbody tr th:only-of-type {\n",
       "        vertical-align: middle;\n",
       "    }\n",
       "\n",
       "    .dataframe tbody tr th {\n",
       "        vertical-align: top;\n",
       "    }\n",
       "\n",
       "    .dataframe thead th {\n",
       "        text-align: right;\n",
       "    }\n",
       "</style>\n",
       "<table border=\"1\" class=\"dataframe\">\n",
       "  <thead>\n",
       "    <tr style=\"text-align: right;\">\n",
       "      <th></th>\n",
       "      <th>Quantity</th>\n",
       "      <th>Price</th>\n",
       "    </tr>\n",
       "    <tr>\n",
       "      <th>Month</th>\n",
       "      <th></th>\n",
       "      <th></th>\n",
       "    </tr>\n",
       "  </thead>\n",
       "  <tbody>\n",
       "    <tr>\n",
       "      <th>1</th>\n",
       "      <td>180</td>\n",
       "      <td>475</td>\n",
       "    </tr>\n",
       "    <tr>\n",
       "      <th>2</th>\n",
       "      <td>590</td>\n",
       "      <td>400</td>\n",
       "    </tr>\n",
       "    <tr>\n",
       "      <th>3</th>\n",
       "      <td>430</td>\n",
       "      <td>450</td>\n",
       "    </tr>\n",
       "    <tr>\n",
       "      <th>4</th>\n",
       "      <td>550</td>\n",
       "      <td>550</td>\n",
       "    </tr>\n",
       "    <tr>\n",
       "      <th>5</th>\n",
       "      <td>275</td>\n",
       "      <td>575</td>\n",
       "    </tr>\n",
       "    <tr>\n",
       "      <th>6</th>\n",
       "      <td>720</td>\n",
       "      <td>375</td>\n",
       "    </tr>\n",
       "    <tr>\n",
       "      <th>7</th>\n",
       "      <td>660</td>\n",
       "      <td>375</td>\n",
       "    </tr>\n",
       "    <tr>\n",
       "      <th>8</th>\n",
       "      <td>790</td>\n",
       "      <td>450</td>\n",
       "    </tr>\n",
       "    <tr>\n",
       "      <th>9</th>\n",
       "      <td>700</td>\n",
       "      <td>400</td>\n",
       "    </tr>\n",
       "    <tr>\n",
       "      <th>10</th>\n",
       "      <td>810</td>\n",
       "      <td>500</td>\n",
       "    </tr>\n",
       "  </tbody>\n",
       "</table>\n",
       "</div>"
      ],
      "text/plain": [
       "       Quantity  Price\n",
       "Month                 \n",
       "1           180    475\n",
       "2           590    400\n",
       "3           430    450\n",
       "4           550    550\n",
       "5           275    575\n",
       "6           720    375\n",
       "7           660    375\n",
       "8           790    450\n",
       "9           700    400\n",
       "10          810    500"
      ]
     },
     "execution_count": 22,
     "metadata": {},
     "output_type": "execute_result"
    }
   ],
   "source": [
    "month = [i for i in range(1, 11)]\n",
    "quantity = [180, 590, 430, 550, 275, 720, 660, 790, 700, 810]\n",
    "price = [475, 400, 450, 550, 575, 375, 375, 450, 400, 500]\n",
    "df = pd.DataFrame(np.stack([month, quantity, price], axis = 1), columns = ['Month', 'Quantity', 'Price'])\n",
    "df.set_index('Month')"
   ]
  },
  {
   "cell_type": "markdown",
   "metadata": {},
   "source": [
    "## Part A\n",
    "Let $ y $ be the quantity and $ x $ be the price. Plot the graph first."
   ]
  },
  {
   "cell_type": "code",
   "execution_count": 14,
   "metadata": {},
   "outputs": [
    {
     "data": {
      "image/png": "[encoded data removed]",
      "text/plain": [
       "<Figure size 432x288 with 1 Axes>"
      ]
     },
     "metadata": {
      "needs_background": "light"
     },
     "output_type": "display_data"
    }
   ],
   "source": [
    "b1, b0 = np.polyfit(price, quantity, 1)\n",
    "y = lambda xi: b1*xi + b0\n",
    "plt.plot(price, quantity, 'o', 'Data')\n",
    "plt.plot(price, y(np.array(price)), label = 'Predicted')\n",
    "plt.xlim(min(price) - 10, max(price) + 10)\n",
    "plt.ylabel('Quantity')\n",
    "plt.xlabel('Price')\n",
    "plt.title('Quantity as a function of Price')\n",
    "plt.show()"
   ]
  },
  {
   "cell_type": "code",
   "execution_count": 17,
   "metadata": {},
   "outputs": [
    {
     "name": "stdout",
     "output_type": "stream",
     "text": [
      "Number of tissue papers at a price of GHS 600 = 369.0\n",
      "Number of tissue papers at a price of GHS 515 = 487.0\n"
     ]
    }
   ],
   "source": [
    "print('Number of tissue papers at a price of GHS 600 =', round(y(600)))\n",
    "print('Number of tissue papers at a price of GHS 515 =', round(y(515)))"
   ]
  },
  {
   "cell_type": "markdown",
   "metadata": {},
   "source": [
    "## Part B\n",
    "Let $ y $ be the number of tissue papers and $ x $ be the time in months. Plot the graph first."
   ]
  },
  {
   "cell_type": "code",
   "execution_count": 21,
   "metadata": {},
   "outputs": [
    {
     "data": {
      "image/png": "[encoded data removed]",
      "text/plain": [
       "<Figure size 432x288 with 1 Axes>"
      ]
     },
     "metadata": {
      "needs_background": "light"
     },
     "output_type": "display_data"
    }
   ],
   "source": [
    "b1, b0 = np.polyfit(month, quantity, 1)\n",
    "g = lambda xi: b1*xi + b0\n",
    "plt.plot(month, quantity, 'ko', label = 'Data')\n",
    "plt.plot(month, g(np.array(month)), label = 'Regression Line')\n",
    "plt.xlabel('Month')\n",
    "plt.ylabel('Quantity')\n",
    "plt.title('Quantity as a function of Time in months')\n",
    "plt.legend()\n",
    "plt.show()"
   ]
  },
  {
   "cell_type": "code",
   "execution_count": 24,
   "metadata": {},
   "outputs": [
    {
     "name": "stdout",
     "output_type": "stream",
     "text": [
      "Number of tissue papers that will be bought in the 11th month = 871.0\n"
     ]
    }
   ],
   "source": [
    "print('Number of tissue papers that will be bought in the 11th month =', round(g(11)))"
   ]
  },
  {
   "cell_type": "markdown",
   "metadata": {},
   "source": [
    "## Part C\n",
    "We kinda already have answered the 11th month. For the 12th month, the answer is the following."
   ]
  },
  {
   "cell_type": "code",
   "execution_count": 25,
   "metadata": {},
   "outputs": [
    {
     "name": "stdout",
     "output_type": "stream",
     "text": [
      "Number of tissue papers that will be bought in the 12th month = 926.0\n"
     ]
    }
   ],
   "source": [
    "print('Number of tissue papers that will be bought in the 12th month =', round(g(12)))"
   ]
  }
 ],
 "metadata": {
  "kernelspec": {
   "display_name": "Python 3",
   "language": "python",
   "name": "python3"
  },
  "language_info": {
   "codemirror_mode": {
    "name": "ipython",
    "version": 3
   },
   "file_extension": ".py",
   "mimetype": "text/x-python",
   "name": "python",
   "nbconvert_exporter": "python",
   "pygments_lexer": "ipython3",
   "version": "3.7.1"
  }
 },
 "nbformat": 4,
 "nbformat_minor": 2
}
