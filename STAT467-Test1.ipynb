{
 "cells": [
  {
   "cell_type": "markdown",
   "metadata": {},
   "source": [
    "# 1. "
   ]
  },
  {
   "cell_type": "markdown",
   "metadata": {},
   "source": [
    "Consider two sequences of sets $ A_1, A_2, A_3, ... $ and $ B_1, B_2, B_3, ... $ in a probability space."
   ]
  },
  {
   "cell_type": "markdown",
   "metadata": {},
   "source": [
    "$ (a) $ If a sequence if such that $ A_k \\subset A_{k + 1}, k = 1, 2, 3, ..., \\lim_{k \\to \\infty}A_k $ is defined as the union $ A_1 \\cup A_2 \\cup A_3 \\cup ... $ (i) Is the sequence non-decreasing or non-increasing? (ii) Find $ \\lim_{k \\to \\infty}A_k $ for $$ A_k = \\{x:\\frac{1}{k} \\leq x \\leq 3 - \\frac{1}{k}\\}, k = 1, 2, 3, ... $$"
   ]
  },
  {
   "cell_type": "markdown",
   "metadata": {},
   "source": [
    "(i) Non-decreasing because set becomes a subset of the following set. In other words, if we keep going, the last set will be large enough to contain all the previous sets; all the sets before the last set become its subsets."
   ]
  },
  {
   "cell_type": "markdown",
   "metadata": {},
   "source": [
    "(ii) \n",
    "\\begin{align}\n",
    "\\lim_{k \\to \\infty}A_k &= A_1 \\cup A_2 \\cup A_3 \\cup ...\\\\\n",
    "&= \\{x: 0 < x < 3\\}\n",
    "\\end{align}"
   ]
  },
  {
   "cell_type": "markdown",
   "metadata": {},
   "source": [
    "$ (b) $ If the sequence is such that $ B_k \\supset B_{k + 1}, k = 1, 2, 3, ..., \\lim_{k \\to \\infty}B_k $ is defined as the intersection $ B_1 \\cap B_2 \\cap B_3 \\cap ... $ (i) Is the sequence non-decreasing or non-increasing? (ii) Find $ \\lim_{k \\to \\infty}A_k $ for $$ B_k = \\{x: 2 - \\frac{1}{k} < x \\leq 2\\}, k = 1, 2, 3, ... $$"
   ]
  },
  {
   "cell_type": "markdown",
   "metadata": {},
   "source": [
    "(i) Non-increasing because the current set is always larger than all the following sets. In other words, the first set is large enough to contain all the sets that follow it."
   ]
  },
  {
   "cell_type": "markdown",
   "metadata": {},
   "source": [
    "(ii) \n",
    "\\begin{align}\n",
    "\\lim_{k \\to \\infty}B_k = B_1 \\cap B_2 \\cap B_3 \\cap ... &= \\bigg(1, 2\\bigg] \\cap \\bigg(3/2, 2\\bigg] \\cap \\bigg(5/3, 2\\bigg] \\cap ...\\\\\n",
    "&= \\{x: x = 2\\}\n",
    "\\end{align}"
   ]
  },
  {
   "cell_type": "markdown",
   "metadata": {},
   "source": [
    "# 2."
   ]
  },
  {
   "cell_type": "markdown",
   "metadata": {},
   "source": [
    "Suppose that we have two events $ A $ and $ B $ in the sample space $ S $."
   ]
  },
  {
   "cell_type": "markdown",
   "metadata": {},
   "source": [
    "$ (b) $ Suppose that two events $ A $ and $ B $ are statistically independent. Prove that $ A^C $ and $ B^C $ are independent or not."
   ]
  },
  {
   "cell_type": "markdown",
   "metadata": {},
   "source": [
    "Answer: If $ A $ and $ B $ are statistically independent, then the following axioms are true:"
   ]
  },
  {
   "cell_type": "markdown",
   "metadata": {},
   "source": [
    "\\begin{align}\n",
    "&(i) P(A|B) = P(A)\n",
    "&(ii) P(A \\cap B) = P(A)P(B)\\\\\n",
    "\\end{align}\n",
    "then,"
   ]
  },
  {
   "cell_type": "markdown",
   "metadata": {},
   "source": [
    "\\begin{align}\n",
    "P(A' \\cap B') &= P\\bigg((A \\cup B)'\\bigg)\\\\\n",
    "&= 1 - P(A \\cup B)\\\\\n",
    "&= 1 - \\bigg(P(A) + P(B) - P(A \\cap B)\\bigg)\\\\\n",
    "&= 1 - \\bigg(P(A) + P(B) - P(A)P(B)\\bigg)\\\\\n",
    "&= 1 - \\bigg(P(A) - P(A)P(B) + P(B)\\bigg)\\\\\n",
    "&= 1 - P(A) + P(A)P(B) - P(B)\\\\\n",
    "&= 1 - P(A) - P(B) + P(A)P(B)\\\\\n",
    "&= \\bigg(1 - P(A)\\bigg) - P(B)\\bigg(1 - P(A)\\bigg)\\\\\n",
    "&= \\bigg(1 - P(A)\\bigg)\\bigg(1 - P(B)\\bigg)\\\\\n",
    "&= P(A')P(B')\n",
    "\\end{align}\n"
   ]
  },
  {
   "cell_type": "markdown",
   "metadata": {},
   "source": [
    "# 3."
   ]
  },
  {
   "cell_type": "markdown",
   "metadata": {},
   "source": [
    "A fleet of nine taxis is to be dispatched to three airports in such a way that three go to airport $ A $, five go to airport $ B $, and one goes to airport $ C $. Assume that taxis are allocated to airports at random. "
   ]
  },
  {
   "cell_type": "markdown",
   "metadata": {},
   "source": [
    "$ (a) $ If exactly one of the taxis is in need of repair, what is the probability that it is dispatched to airport $ C $?"
   ]
  },
  {
   "cell_type": "markdown",
   "metadata": {},
   "source": [
    "Answer: If we assume equally-likely chance, then the probability of exactly one taxi being dispatched to airport $ C $ is $$ P(C) = \\frac{1}{9} $$"
   ]
  },
  {
   "cell_type": "markdown",
   "metadata": {},
   "source": [
    "$ (b) $ If exactly three of the taxis are in need of repair, what is the probability that every airport receives one of the taxis requiring repairs?"
   ]
  },
  {
   "cell_type": "markdown",
   "metadata": {},
   "source": [
    "Answer: \n",
    "\\begin{align}\n",
    "&N(Each\\ Group\\ Has\\ Exactly\\ One) = 3{6 \\choose 2}{4 \\choose 4} = 45\\\\\n",
    "&N(Nine\\ Taxis\\ Partitioned\\ Into\\ Three\\ Groups) = \\frac{9!}{3!5!1!} = 504\\\\\n",
    "&P(Every\\ Airport\\ Receives\\ One) = \\frac{45}{504}\n",
    "\\end{align}"
   ]
  },
  {
   "cell_type": "markdown",
   "metadata": {},
   "source": [
    "# 4. "
   ]
  },
  {
   "cell_type": "markdown",
   "metadata": {},
   "source": [
    "Suppose that $ Y $ has the binomial distribution with parameters $ (n, p) $ Define $ X = n - Y $."
   ]
  },
  {
   "cell_type": "markdown",
   "metadata": {},
   "source": [
    "$ (a) $ Using the moment generating function (MGF) of $ Y $, find the MGF of $ X $. (No Derivation required.)"
   ]
  },
  {
   "cell_type": "markdown",
   "metadata": {},
   "source": [
    "Answer: (Reference): since $ Y $ has a binomial distribution, its MGF will be $$ M_y(t) = E\\bigg(e^{tY}\\bigg) = (pe^t + q)^n $$. Therefore,\n",
    "\\begin{align}\n",
    "M_x(t) &= E\\bigg(e^{tX}\\bigg)\\\\\n",
    "&= E\\bigg(e^{t(n - Y)}\\bigg)\\\\\n",
    "&= E\\bigg(e^{tn - tY}\\bigg)\\\\\n",
    "&= e^{tn}E\\bigg(e^{-tY}\\bigg)\\\\\n",
    "&= e^{tn}M_y(-t)\\\\\n",
    "&= e^{tn}\\bigg(pe^{-t}+(1 - p)\\bigg)^n\\\\\n",
    "&= \\bigg(p + (1 - p)e^t\\bigg)^n\n",
    "\\end{align}\n"
   ]
  },
  {
   "cell_type": "markdown",
   "metadata": {},
   "source": [
    "$ (b)[Undergraduate] $ : Find $ E(X) $ using the MGF of $ X $ in (a)."
   ]
  },
  {
   "cell_type": "markdown",
   "metadata": {},
   "source": [
    "Answer: Find the derivative of the MGF then evaluate it at $ t = 0 $.\n",
    "\\begin{align}\n",
    "M_x'(t) &= \\frac{d}{dt}E\\bigg(e^{nt - tY}\\bigg)\\\\\n",
    "&= E\\bigg(\\frac{d}{dt}e^{nt - tY}\\bigg)\\\\\n",
    "&= E\\bigg(e^{nt - tY}(n - Y)\\bigg)\\\\\n",
    "\\end{align}\n",
    "So, \n",
    "\\begin{align}\n",
    "E(X) = M_x'(0) &= E\\bigg(e^{0 - 0}(n - Y)\\bigg)\\\\\n",
    "&= E\\bigg(n - Y\\bigg)\\\\\n",
    "&= E(n) - E(Y)\\\\\n",
    "&= n - E(Y)\\\\\n",
    "&= n - np\\\\\n",
    "&= n(1 - p)\\\\\n",
    "&= nq\n",
    "\\end{align}"
   ]
  },
  {
   "cell_type": "markdown",
   "metadata": {},
   "source": [
    "$ (b)[Graduate] $: Find $ E(X) $ using the definition of expectation."
   ]
  },
  {
   "cell_type": "markdown",
   "metadata": {},
   "source": [
    "Answer: Recall that $$ E(X) = n - E(Y) $$ We need to derive $ E(Y) $ then substitute it for the above equation.\n",
    "\\begin{align}\n",
    "E(Y) &= \\sum_{y = 0}^{n}y\\frac{n!}{y!(n - y)!}p^yq^{n - y}\\\\\n",
    "&= np\\sum_{y = 0}^{n}\\frac{(n - 1)!}{(y - 1)!(n - y)!}p^{y - 1}q^{n - y}\\\\\n",
    "&= np\\sum_{y = 0}^{n}\\frac{(n - 1)!}{(y - 1)!\\bigg((n - 1) - (y - 1)\\bigg)!}p^{y - 1}q^{(n - 1) - (y - 1)}\\\\\n",
    "\\end{align}\n",
    "Letting $ z = y - 1 $, \n",
    "\\begin{align}\n",
    "E(Y) &= np\\sum_{z = 0}^{n - 1}\\frac{(n - 1)!}{z!(n - 1 - z)!}p^zq^{n - 1 - z}\\\\\n",
    "&= np(p + q)^{n - 1}\\\\\n",
    "&= np(p + 1 - p)^{n - 1}\\\\\n",
    "&= np(1)^{n - 1}\\\\\n",
    "&= np\n",
    "\\end{align}\n",
    "because we applied the formula $$ (p + q)^n = \\sum_{y = 0}^{n}{n \\choose y}p^yq^{n - y} $$ So, $$ E(X) = n - E(Y) = n - np = n(1 - p) = nq $$"
   ]
  },
  {
   "cell_type": "markdown",
   "metadata": {},
   "source": [
    "# 5."
   ]
  },
  {
   "cell_type": "markdown",
   "metadata": {},
   "source": [
    "Let $ X $ be a random variable with MGF given by $$ \\frac{pe^t}{1 - qe^t} $$ $ p + q = 1. $"
   ]
  },
  {
   "cell_type": "markdown",
   "metadata": {},
   "source": [
    "$ (a) $ (i) Identify the distribution of $ X $ and (ii) write down the probability function of $ X $, $ p(x) $ with specifying (iii) the domain of $ X $, and (iv) the parameter space."
   ]
  },
  {
   "cell_type": "markdown",
   "metadata": {},
   "source": [
    "Answer:\n",
    "\\begin{align}\n",
    "&(i)\\ Geometric\\ Distribution\\\\\n",
    "&(ii)\\ p(x) = p(1 - p)^{x - 1}\\\\\n",
    "&(iii)\\ Domain: x = 1, 2, 3, ...\\\\\n",
    "&(iv)\\ Geometric(p);\\ 0 < p < 1\\\\\n",
    "\\end{align}"
   ]
  },
  {
   "cell_type": "markdown",
   "metadata": {},
   "source": [
    "$ (b)[Undergraduate] $: Derive $ E(X) $ using the definition of expectation."
   ]
  },
  {
   "cell_type": "markdown",
   "metadata": {},
   "source": [
    "Answer: Let the pdf for the Geometric Distribution be $$ p(x) = p(1 - p)^{x - 1} $$ Then the expected value of $ X $ is\n",
    "\\begin{align}\n",
    "E(X) &= \\sum_{x = 1}^{\\infty}xp(1 - p)^{x - 1}\\\\\n",
    "&= p\\sum_{x = 1}^{\\infty}xq^{x - 1}\\\\\n",
    "&= p\\sum_{x = 1}^{\\infty}\\frac{d}{dq}(q^x)\\\\\n",
    "&=  p\\frac{d}{dq}\\sum_{x = 1}^{\\infty}q^x\\\\\n",
    "&= p\\frac{d}{dq}\\bigg(\\frac{q}{1 - q}\\bigg)\\\\\n",
    "&= p\\bigg(\\frac{1 - q + q}{(1 - q)^2}\\bigg)\\\\\n",
    "&= \\frac{p}{(1 - q)^2}\\\\\n",
    "&= \\frac{p}{p^2}\\\\\n",
    "&= \\frac{1}{p}\n",
    "\\end{align}\n"
   ]
  },
  {
   "cell_type": "markdown",
   "metadata": {},
   "source": [
    "$ (b)[Graduate] $: Derive $ Var(X) $ by using the definition of expectation."
   ]
  },
  {
   "cell_type": "markdown",
   "metadata": {},
   "source": [
    "Answer: Find $ E(X^2) $ first. Recall the formula $$ E\\bigg[X(X - 1)\\bigg] = E(X^2 - X) = E(X^2) - E(X) $$ We have to find this expectation first because it is easier than finding $ E(X^2) $. Therefore,\n",
    "\\begin{align}\n",
    "E\\bigg(X(X - 1)\\bigg) &= \\sum_{x = 1}^{\\infty}x(x - 1)pq^{x - 1}\\\\\n",
    "&= p\\sum_{x = 1}^{\\infty}x(x - 1)q^{x - 1}\\\\\n",
    "&= p\\frac{d}{dq}\\bigg(\\sum_{x = 1}^{\\infty}(x - 1)q^x\\bigg)\\\\\n",
    "\\end{align}"
   ]
  },
  {
   "cell_type": "code",
   "execution_count": null,
   "metadata": {},
   "outputs": [],
   "source": []
  }
 ],
 "metadata": {
  "kernelspec": {
   "display_name": "Python 3",
   "language": "python",
   "name": "python3"
  },
  "language_info": {
   "codemirror_mode": {
    "name": "ipython",
    "version": 3
   },
   "file_extension": ".py",
   "mimetype": "text/x-python",
   "name": "python",
   "nbconvert_exporter": "python",
   "pygments_lexer": "ipython3",
   "version": "3.7.3"
  }
 },
 "nbformat": 4,
 "nbformat_minor": 2
}
