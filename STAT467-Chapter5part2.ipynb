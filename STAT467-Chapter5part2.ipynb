{
 "cells": [
  {
   "cell_type": "markdown",
   "metadata": {},
   "source": [
    "$$ F_{X_1,X_2}(x_1, x_2) = P\\{X_1 \\leq x_1, X_2 \\leq x_2\\} $$ "
   ]
  },
  {
   "cell_type": "markdown",
   "metadata": {},
   "source": [
    "$$ = \\sum_{X_1 \\leq x_1}\\sum_{X_2 \\leq x_2}P(x_1, x_2) $$ "
   ]
  },
  {
   "cell_type": "markdown",
   "metadata": {},
   "source": [
    "where $ p(x_1, x_2) = P(X_1 = x_1, X_2 = x_2) $."
   ]
  },
  {
   "cell_type": "markdown",
   "metadata": {},
   "source": [
    "The joint(bivariate) PMF uniquely defines cdf. It also is charaterized by the two properties"
   ]
  },
  {
   "cell_type": "markdown",
   "metadata": {},
   "source": [
    "\\begin{align}\n",
    "&(i)  0 \\leq p(x_1, x_2) \\leq 1 \\\\\n",
    "&(ii) \\sum_{all x_1}\\sum_{all x_2}p(x_1, x_2) = 1\n",
    "\\end{align}"
   ]
  },
  {
   "cell_type": "markdown",
   "metadata": {},
   "source": [
    "## Theorem(Prove):"
   ]
  },
  {
   "cell_type": "markdown",
   "metadata": {},
   "source": [
    "For all reals, $ a < b, c < d, $ "
   ]
  },
  {
   "cell_type": "markdown",
   "metadata": {},
   "source": [
    "\\begin{align}\n",
    "P\\{a \\leq x_1 \\leq b, c \\leq x_2 \\leq d\\} = F_{x_1, x_2}(b, d) - F_{x_1, x_2}(a, d) - F_{x_1, x_2}(b, c) + F_{x_1, x_2}(a, c)\n",
    "\\end{align}"
   ]
  },
  {
   "cell_type": "markdown",
   "metadata": {},
   "source": [
    "A random vector $ (x_1, x_2) $ with space $ D $ is of continuous type if its CDF $ F_{x_1, x_2}(x_1, x_2) $ is continuous. The function can be expressed as"
   ]
  },
  {
   "cell_type": "markdown",
   "metadata": {},
   "source": [
    "$$ F_{x_1, x_2}(x_1, x_2) = \\int_{-\\infty}^{x_1}\\int_{-\\infty}^{x_2}f_{x_1, x_2}(t_1, t_2)dt_1dt_2 $$"
   ]
  },
  {
   "cell_type": "markdown",
   "metadata": {},
   "source": [
    "$ \\forall t_1, t_2 \\in \\mathbb{R} $"
   ]
  },
  {
   "cell_type": "markdown",
   "metadata": {},
   "source": [
    "At points of continuity of $ f_{x_1, x_2}(x_1, x_2) $ we have "
   ]
  },
  {
   "cell_type": "markdown",
   "metadata": {},
   "source": [
    "$$ \\frac{\\partial^2F_{x_1, x_2}(x_1, x_2)}{\\partial x_1x_2} = f(x_1, x_2) $$ "
   ]
  },
  {
   "cell_type": "markdown",
   "metadata": {},
   "source": [
    "## PDF Properties"
   ]
  },
  {
   "cell_type": "markdown",
   "metadata": {},
   "source": [
    "A PDF if characterized by two properties:"
   ]
  },
  {
   "cell_type": "markdown",
   "metadata": {},
   "source": [
    "\\begin{align}\n",
    "&(i) f_{x_1, x_2}(x_1, x_2) \\geq 0 \\\\\n",
    "&(ii) \\int\\int_{X}f(x_1, x_2)dx_1dx_2 = 1\n",
    "\\end{align}"
   ]
  },
  {
   "cell_type": "markdown",
   "metadata": {},
   "source": [
    "$ Note: P\\{(X_1, X_2) \\in X\\} $ is the volume under the surface"
   ]
  },
  {
   "cell_type": "markdown",
   "metadata": {},
   "source": [
    "$ z = f_{x_1, x_2}(x_1, x_2) $ over the set $ X $."
   ]
  },
  {
   "cell_type": "markdown",
   "metadata": {},
   "source": [
    "## Theorem"
   ]
  },
  {
   "cell_type": "markdown",
   "metadata": {},
   "source": [
    "For a $ Rvec(x_1, x_2) $ with $ F_{x_1, x_2}(x_1, x_2) $"
   ]
  },
  {
   "cell_type": "markdown",
   "metadata": {},
   "source": [
    "\\begin{align}\n",
    "&(i) F(-\\infty, \\infty) = F(x_1, -\\infty) = F(-\\infty, \\infty) = 0\\\\\n",
    "&(ii) F(\\infty, \\infty) = 1\\\\\n",
    "&(iii) for x_1 \\leq a, x_2 \\leq b, F(a, b) - F(a, x_2) - F(x_1, b) + F(x_1, x_2) \\geq 0\n",
    "\\end{align}"
   ]
  },
  {
   "cell_type": "markdown",
   "metadata": {},
   "source": [
    "## Conditional Expectation"
   ]
  },
  {
   "cell_type": "markdown",
   "metadata": {},
   "source": [
    "$$ E[g(X_2|X_1 = x_1)] = \\sum_{x_2}g(x_2)p(x_2|x_1) $$ if discrete and"
   ]
  },
  {
   "cell_type": "markdown",
   "metadata": {},
   "source": [
    "$$ E[g(X_2|X_1 = x_1)] = \\int_{-\\infty}^{\\infty}g(x_2)f(x_2|x_1)dx_2 $$ if continuous"
   ]
  },
  {
   "cell_type": "markdown",
   "metadata": {},
   "source": [
    "## Measure of skewness"
   ]
  },
  {
   "cell_type": "markdown",
   "metadata": {},
   "source": [
    "$$ \\alpha_3 = \\frac{\\mu_3}{\\mu_2^{3/2}} $$ where skewness meaures the lack of symmetry in the pdf. The third moment is related to this."
   ]
  },
  {
   "cell_type": "markdown",
   "metadata": {},
   "source": [
    "## Kurtosis"
   ]
  },
  {
   "cell_type": "markdown",
   "metadata": {},
   "source": [
    "$$ k = \\alpha_4 = \\frac{\\mu_4}{\\mu_2^2} $$ where kurtosis meaures the peakness of flatness of distribution. The 4th moment is related to this."
   ]
  },
  {
   "cell_type": "markdown",
   "metadata": {},
   "source": [
    "# 5.4 - 5.6"
   ]
  },
  {
   "cell_type": "markdown",
   "metadata": {},
   "source": [
    "## Independent Random Variables and Functions"
   ]
  },
  {
   "cell_type": "markdown",
   "metadata": {},
   "source": [
    "CDF: $$ F(x) = P(X \\leq x) $$ where $ b \\in \\mathbb{R} $ $$ \\implies (-\\infty, b] = (-\\infty, a] + (a, b] $$"
   ]
  },
  {
   "cell_type": "markdown",
   "metadata": {},
   "source": [
    "$$ \\iff F(b) = F(a) + P\\{(a, b]\\} $$"
   ]
  },
  {
   "cell_type": "markdown",
   "metadata": {},
   "source": [
    "$$ \\implies P(a < X \\leq b) = F(b) - F(a) $$"
   ]
  },
  {
   "cell_type": "markdown",
   "metadata": {},
   "source": [
    "$ I_n = \\{x: a - \\frac{1}{n} < x \\leq a + \\frac{1}{n}\\} $, $$ P(X = a) = P(\\cap I_n) $$ \n",
    "\\begin{align}\n",
    "\\lim_{n \\to \\infty}P(I_n) &= \\lim_{n \\to \\infty}\\{F(a + \\frac{1}{n}) - F(a - \\frac{1}{n})\\}\\\\\n",
    "&= F(a^+) - F(a^-)\\\\\n",
    "\\end{align}"
   ]
  },
  {
   "cell_type": "markdown",
   "metadata": {},
   "source": [
    "## Definition 5.8"
   ]
  },
  {
   "cell_type": "markdown",
   "metadata": {},
   "source": [
    "Let $ Y_1 $ have distribution $ F_1(y_1) $ and $ Y_2 $ have distribution $ F_2(y_2) $, and $ Y_1 $ and $ Y_2 $ have joint distribution function $ F(y_1, y_2) $. Then $ Y_1 $ and $ Y_2 $ are said to be $ independent $ if and only if $$ F(y_1, y_2) = F_1(y_1)F_2(y_2) $$ for every pair of real numbers $ (y_1, y_2) $. If $ Y_1 $ and $ Y_2 $ are not independent, they are dependent."
   ]
  },
  {
   "cell_type": "code",
   "execution_count": null,
   "metadata": {},
   "outputs": [],
   "source": []
  }
 ],
 "metadata": {
  "kernelspec": {
   "display_name": "Python 3",
   "language": "python",
   "name": "python3"
  },
  "language_info": {
   "codemirror_mode": {
    "name": "ipython",
    "version": 3
   },
   "file_extension": ".py",
   "mimetype": "text/x-python",
   "name": "python",
   "nbconvert_exporter": "python",
   "pygments_lexer": "ipython3",
   "version": "3.7.3"
  }
 },
 "nbformat": 4,
 "nbformat_minor": 2
}
