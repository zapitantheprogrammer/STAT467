{
 "cells": [
  {
   "cell_type": "markdown",
   "metadata": {},
   "source": [
    "# Multivariate Probability Distributions"
   ]
  },
  {
   "cell_type": "markdown",
   "metadata": {},
   "source": [
    "Consider a probability distribution function of a random vector"
   ]
  },
  {
   "cell_type": "markdown",
   "metadata": {},
   "source": [
    "$ Recall: $ A vector of a dimension $ k $ is an \"ordered\" collection of $ k $ elements, called components. If it is not ordered, it is just a \"set\"."
   ]
  },
  {
   "cell_type": "markdown",
   "metadata": {},
   "source": [
    "A vector is a specific structure, has a magnitude and direction, angle relative(distance size) to the origin $ (0, 0) $."
   ]
  },
  {
   "cell_type": "markdown",
   "metadata": {},
   "source": [
    "$ Def: $ A random vector is an ordered collection of $ k $ random variables, denoted by $ X $, $ X = (X_1, X_2, ... , X_k)^T $ where $ T $ is the transpose."
   ]
  },
  {
   "cell_type": "markdown",
   "metadata": {},
   "source": [
    "When $ k = 2 $, $ X = (X_1, X_2)^T $ and the probability distribution of $ (X_1, X_2) $ is $ bivariate $, denoted by a joint probability distribution function"
   ]
  },
  {
   "cell_type": "markdown",
   "metadata": {},
   "source": [
    "\\begin{align}\n",
    "f(x_1, x_2) = P(X_1(w_1) = x_1, X_2(w_2) = x_2)\n",
    "\\end{align}"
   ]
  },
  {
   "cell_type": "markdown",
   "metadata": {},
   "source": [
    "## Example 1"
   ]
  },
  {
   "cell_type": "markdown",
   "metadata": {},
   "source": [
    "Consider an experiment of tossing a coin three times in a row: {$ H $} or {$ T $}. We are interested in the ordered number pair {$ i, j $} where $ i $ represents the number of {$ H $} in the first two tosses and $ j $ represents the number of {$ H $} of all three tosses,"
   ]
  },
  {
   "cell_type": "markdown",
   "metadata": {},
   "source": [
    "\\begin{align}\n",
    "&i = 0, 1, 2\\\\\n",
    "&j = 0, 1, 2, 3\n",
    "\\end{align}"
   ]
  },
  {
   "cell_type": "markdown",
   "metadata": {},
   "source": [
    "$ a) $ Then, the sample space is "
   ]
  },
  {
   "cell_type": "markdown",
   "metadata": {},
   "source": [
    "\\begin{align}\n",
    "S = \\{HHH, HHT, HTH, HTT, THH, THT, TTH, TTT\\}\n",
    "\\end{align}"
   ]
  },
  {
   "cell_type": "markdown",
   "metadata": {},
   "source": [
    "Let $ X_1 $ and $ X_2 $ be two real-valued functions defined on the sample space $ S $, which map $ S $ to the space of ordered number pairs, namely $ D = \\{(0, 0), (0, 1), (1, 1), (1, 2), (2, 2), (2, 3)\\} $ "
   ]
  },
  {
   "cell_type": "markdown",
   "metadata": {},
   "source": [
    "\\begin{align}\n",
    "(x_1, x_2): S \\to D\n",
    "\\end{align}"
   ]
  },
  {
   "cell_type": "markdown",
   "metadata": {},
   "source": [
    "We see that $ X_1 $ and $ X_2 $ are random variables defined on the sample space $ S $ in this example, the space of the random variables is the two-dimensional set $ D $ which is a subset of two-dimensional Euclidean space $ \\mathbb{R}^2 $."
   ]
  },
  {
   "cell_type": "markdown",
   "metadata": {},
   "source": [
    "$ b) $ The probability mass function of $ (x_1, x_2) $ "
   ]
  },
  {
   "cell_type": "markdown",
   "metadata": {},
   "source": [
    "$ Def1: $ For all RVec $ X = (X_1, X_2)^T $, the joint($ bivariate $) cumulative distribution function "
   ]
  },
  {
   "cell_type": "markdown",
   "metadata": {},
   "source": [
    "\\begin{align}\n",
    "F_{X_1, X_2}(x_1, x_2) = P(X_1 \\leq x_1, X_2 \\leq x_2)\n",
    "\\end{align}"
   ]
  },
  {
   "cell_type": "code",
   "execution_count": null,
   "metadata": {},
   "outputs": [],
   "source": []
  }
 ],
 "metadata": {
  "kernelspec": {
   "display_name": "Python 3",
   "language": "python",
   "name": "python3"
  },
  "language_info": {
   "codemirror_mode": {
    "name": "ipython",
    "version": 3
   },
   "file_extension": ".py",
   "mimetype": "text/x-python",
   "name": "python",
   "nbconvert_exporter": "python",
   "pygments_lexer": "ipython3",
   "version": "3.7.1"
  }
 },
 "nbformat": 4,
 "nbformat_minor": 2
}
